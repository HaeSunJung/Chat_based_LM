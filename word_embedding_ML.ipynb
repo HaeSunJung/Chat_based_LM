{
 "cells": [
  {
   "cell_type": "code",
   "execution_count": null,
   "metadata": {},
   "outputs": [],
   "source": [
    "import pandas as pd\n",
    "import torch\n",
    "from tqdm import tqdm\n",
    "import sklearn\n",
    "import seaborn as sns\n",
    "import spacy\n",
    "import numpy as np\n",
    "import matplotlib.pyplot as plt\n",
    "import nltk\n",
    "import re\n",
    "import os\n",
    "import json\n",
    "from sklearn.model_selection import train_test_split\n",
    "\n",
    "tqdm.pandas()\n",
    "\n",
    "import warnings\n",
    "\n",
    "warnings.filterwarnings(\"ignore\")\n"
   ]
  },
  {
   "cell_type": "code",
   "execution_count": null,
   "metadata": {},
   "outputs": [],
   "source": [
    "df_with_unsup = pd.read_csv(\"unsupo_train.csv\")\n",
    "df_test =pd.read_csv(\"manually_test.csv\")"
   ]
  },
  {
   "cell_type": "code",
   "execution_count": null,
   "metadata": {},
   "outputs": [],
   "source": [
    "len(df_with_unsup)"
   ]
  },
  {
   "cell_type": "code",
   "execution_count": null,
   "metadata": {},
   "outputs": [],
   "source": [
    "df_test"
   ]
  },
  {
   "cell_type": "code",
   "execution_count": null,
   "metadata": {},
   "outputs": [],
   "source": [
    "x_train = tuple(df_with_unsup['prepro'])\n",
    "x_test = tuple(df_test['prepro'])\n",
    "y_train = tuple(df_with_unsup['sentiment'])\n",
    "y_test = tuple(df_test['sentiment_final'].copy())"
   ]
  },
  {
   "cell_type": "markdown",
   "metadata": {},
   "source": [
    "# Bag of Words"
   ]
  },
  {
   "cell_type": "code",
   "execution_count": null,
   "metadata": {},
   "outputs": [],
   "source": [
    "\n",
    "from sklearn.feature_extraction.text import CountVectorizer\n",
    "\n",
    "bow_vectorizer = CountVectorizer(analyzer='word', max_features=5000)\n",
    "\n",
    "# train\n",
    "x_bow_train = bow_vectorizer.fit_transform(x_train)\n",
    "y_train = np.array(y_train)\n",
    "\n",
    "# test\n",
    "x_bow_test = bow_vectorizer.transform(x_test)\n",
    "y_test = np.array(y_test)"
   ]
  },
  {
   "cell_type": "code",
   "execution_count": null,
   "metadata": {},
   "outputs": [],
   "source": [
    "from sklearn.model_selection import GridSearchCV\n",
    "from sklearn.linear_model import LogisticRegression\n",
    "from sklearn.metrics import classification_report\n",
    "from sklearn.metrics import accuracy_score\n",
    "\n",
    "lr_bow_model = LogisticRegression(class_weight='balanced')\n",
    "\n",
    "hyper_parmas = {\"max_iter\": [1000, 2000, 3000],\n",
    "                \"C\":[10,100,1000]}\n",
    "\n",
    "grid_lr_bow_model = GridSearchCV(lr_bow_model, param_grid=hyper_parmas, cv=5, refit=True, return_train_score=True).fit(x_bow_train, y_train)\n",
    "\n",
    "print(grid_lr_bow_model.best_score_)\n",
    "\n",
    "estimator = grid_lr_bow_model.best_estimator_\n",
    "pred_y_bow_lr = estimator.predict(x_bow_test)"
   ]
  },
  {
   "cell_type": "code",
   "execution_count": null,
   "metadata": {},
   "outputs": [],
   "source": [
    "from sklearn.metrics import precision_recall_fscore_support\n",
    "\n",
    "precision, recall, f1_score, _ = precision_recall_fscore_support(y_test, pred_y_bow_lr, average='binary')\n",
    "print(f1_score)\n",
    "\n",
    "\n",
    "print(classification_report(y_test, pred_y_bow_lr, target_names=['neg', 'pos'],digits=4))\n",
    "\n",
    "print(accuracy_score(y_test, pred_y_bow_lr)) "
   ]
  },
  {
   "cell_type": "code",
   "execution_count": null,
   "metadata": {},
   "outputs": [],
   "source": [
    "from sklearn.svm import LinearSVC\n",
    "from sklearn.ensemble import BaggingClassifier\n",
    "\n",
    "#model train \n",
    "param_grid = {\n",
    "     'C': [0.001, 0.01, 0.1, 1, 10, 100] \n",
    "     }\n",
    "\n",
    "svm_origin = LinearSVC() \n",
    "n_estimators = 10\n",
    "n_jobs = 2\n",
    "\n",
    "svm_bow_model = GridSearchCV(svm_origin, param_grid = param_grid, cv = 5, n_jobs = -1, verbose = 3).fit(x_bow_train, y_train)\n",
    "print(svm_bow_model.best_score_)\n",
    "\n",
    "estimator = svm_bow_model.best_estimator_\n",
    "pred_y_bow_svm = estimator.predict(x_bow_test)"
   ]
  },
  {
   "cell_type": "code",
   "execution_count": null,
   "metadata": {},
   "outputs": [],
   "source": [
    "\n",
    "\n",
    "precision, recall, f1_score, _ = precision_recall_fscore_support(y_test, pred_y_bow_svm, average='binary')\n",
    "print(f1_score)\n",
    "\n",
    "print(classification_report(y_test, pred_y_bow_svm, target_names=['neg', 'pos'],digits=4))\n",
    "\n",
    "print(accuracy_score(y_test, pred_y_bow_svm) "
   ]
  },
  {
   "cell_type": "code",
   "execution_count": null,
   "metadata": {},
   "outputs": [],
   "source": [
    "from sklearn.naive_bayes import MultinomialNB\n",
    "\n",
    "params = {'alpha': [0.001, 0.01, 0.1, 0.5, 1.0, 10.0],\n",
    "         }\n",
    "\n",
    "nb_bow_model = GridSearchCV(MultinomialNB() , param_grid=params, n_jobs=-1, cv=5, verbose=5).fit(x_bow_train, y_train)\n",
    "\n",
    "print(nb_bow_model.best_score_)\n",
    "\n",
    "estimator = nb_bow_model.best_estimator_\n",
    "pred_y_bow_nb = estimator.predict(x_bow_test)"
   ]
  },
  {
   "cell_type": "code",
   "execution_count": null,
   "metadata": {},
   "outputs": [],
   "source": [
    "# 예측 \n",
    "print(classification_report(y_test, pred_y_bow_nb, target_names=['neg', 'pos'],digits=4))\n",
    "# 예측 정확도\n",
    "print(\"모델의 예측 정확도 :\",accuracy_score(y_test, pred_y_bow_nb)) "
   ]
  },
  {
   "cell_type": "code",
   "execution_count": null,
   "metadata": {},
   "outputs": [],
   "source": [
    "import xgboost as xgb\n",
    "from xgboost import XGBClassifier\n",
    "\n",
    "xgb = XGBClassifier(random_state=82)\n",
    "\n",
    "xgb_param_grid = {\n",
    "    'n_estimators' : [100, 200, 400, 600, 1000], \n",
    "    'learning_rate' : [0.05, 0.1, 0.15, 0.2], \n",
    "    'max_depth' : [4, 6, 8, 10],\n",
    "    'gpu_id':[0],\n",
    "    'tree_method':['gpu_hist'],\n",
    "    'predictor':['gpu_predictor'],\n",
    "}\n",
    "\n",
    "xgb_grid_bow = GridSearchCV(xgb, param_grid = xgb_param_grid, scoring = 'accuracy').fit(x_bow_train, y_train, verbose=1)\n",
    "\n",
    "print(xgb_grid_bow.best_score_)\n",
    "\n",
    "estimator = xgb_grid_bow.best_estimator_\n",
    "pred_y_bow_xgb = estimator.predict(x_bow_test)"
   ]
  },
  {
   "cell_type": "code",
   "execution_count": null,
   "metadata": {},
   "outputs": [],
   "source": [
    "xgb_grid_bow.best_estimator_"
   ]
  },
  {
   "cell_type": "code",
   "execution_count": null,
   "metadata": {},
   "outputs": [],
   "source": [
    "\n",
    "print(classification_report(y_test, pred_y_bow_xgb, target_names=['neg', 'pos'],digits=4))\n",
    "print(accuracy_score(y_test, pred_y_bow_xgb)"
   ]
  },
  {
   "cell_type": "markdown",
   "metadata": {},
   "source": [
    "# TF-IDF"
   ]
  },
  {
   "cell_type": "code",
   "execution_count": null,
   "metadata": {},
   "outputs": [],
   "source": [
    "# tfidf embedding\n",
    "from sklearn.feature_extraction.text import TfidfVectorizer\n",
    "\n",
    "tfidf_vectorizer = TfidfVectorizer(min_df = 0.0, analyzer='word', ngram_range=(1,3), max_features=3000)\n",
    "\n",
    "# train\n",
    "x_tfidf_train = tfidf_vectorizer.fit_transform(x_train)\n",
    "y_train = np.array(y_train)\n",
    "\n",
    "# test\n",
    "x_tfidf_test = tfidf_vectorizer.transform(x_test)\n",
    "y_test = np.array(y_test)"
   ]
  },
  {
   "cell_type": "code",
   "execution_count": null,
   "metadata": {},
   "outputs": [],
   "source": [
    "from sklearn.model_selection import GridSearchCV\n",
    "from sklearn.linear_model import LogisticRegression\n",
    "from sklearn.metrics import classification_report\n",
    "from sklearn.metrics import accuracy_score\n",
    "\n",
    "\n",
    "lr_tfidf_model = LogisticRegression(class_weight='balanced')\n",
    "\n",
    "hyper_parmas = {\"max_iter\": [1000, 2000, 3000],\n",
    "                \"C\":[0.01, 0.1, 1, 10]}\n",
    "\n",
    "grid_lr_tfidf_model = GridSearchCV(lr_tfidf_model, param_grid=hyper_parmas, cv=5, refit=True, return_train_score=True).fit(x_tfidf_train, y_train)\n",
    "\n",
    "print(grid_lr_tfidf_model.best_score_)\n",
    "\n",
    "estimator = grid_lr_tfidf_model.best_estimator_\n",
    "pred_y_tfidf_lr = estimator.predict(x_tfidf_test)"
   ]
  },
  {
   "cell_type": "code",
   "execution_count": null,
   "metadata": {},
   "outputs": [],
   "source": [
    "grid_lr_tfidf_model.best_estimator_"
   ]
  },
  {
   "cell_type": "code",
   "execution_count": null,
   "metadata": {},
   "outputs": [],
   "source": [
    "print(classification_report(y_test, pred_y_tfidf_lr, target_names=['neg', 'pos'],digits=4))\n",
    "print(accuracy_score(y_test, pred_y_tfidf_lr))"
   ]
  },
  {
   "cell_type": "code",
   "execution_count": null,
   "metadata": {},
   "outputs": [],
   "source": [
    "#model train \n",
    "param_grid = {\n",
    "     'C': [0.001, 0.01, 0.1, 1, 10, 100] \n",
    "     }\n",
    "\n",
    "svm_origin = LinearSVC() \n",
    "n_estimators = 10\n",
    "n_jobs = 2\n",
    "\n",
    "svm_tfidf_model = GridSearchCV(svm_origin, param_grid = param_grid, cv = 5, n_jobs = -1, verbose = 3).fit(x_tfidf_train, y_train)\n",
    "print(svm_tfidf_model.best_score_)\n",
    "\n",
    "estimator = svm_tfidf_model.best_estimator_\n",
    "pred_y_tfidf_svm = estimator.predict(x_tfidf_test)"
   ]
  },
  {
   "cell_type": "code",
   "execution_count": null,
   "metadata": {},
   "outputs": [],
   "source": [
    "svm_tfidf_model.best_estimator_"
   ]
  },
  {
   "cell_type": "code",
   "execution_count": null,
   "metadata": {},
   "outputs": [],
   "source": [
    "\n",
    "print(classification_report(y_test, pred_y_tfidf_svm, target_names=['neg', 'pos'],digits=4))\n",
    "print(accuracy_score(y_test, pred_y_tfidf_svm)) "
   ]
  },
  {
   "cell_type": "code",
   "execution_count": null,
   "metadata": {},
   "outputs": [],
   "source": [
    "params = {'alpha': [0.001, 0.01, 0.1, 0.5, 1.0, 10.0, 100.0, 1000.0],\n",
    "         }\n",
    "\n",
    "nb_tfidf_model = GridSearchCV(MultinomialNB() , param_grid=params, n_jobs=-1, cv=5, verbose=5).fit(x_tfidf_train, y_train)\n",
    "\n",
    "print(nb_tfidf_model.best_score_)\n",
    "\n",
    "estimator = nb_tfidf_model.best_estimator_\n",
    "pred_y_tfidf_nb = estimator.predict(x_tfidf_test)"
   ]
  },
  {
   "cell_type": "code",
   "execution_count": null,
   "metadata": {},
   "outputs": [],
   "source": [
    "nb_tfidf_model.best_estimator_"
   ]
  },
  {
   "cell_type": "code",
   "execution_count": null,
   "metadata": {},
   "outputs": [],
   "source": [
    "\n",
    "print(classification_report(y_test, pred_y_tfidf_nb, target_names=['neg', 'pos'],digits=4))\n",
    "print(accuracy_score(y_test, pred_y_tfidf_nb)) "
   ]
  },
  {
   "cell_type": "code",
   "execution_count": null,
   "metadata": {},
   "outputs": [],
   "source": [
    "import xgboost as xgb\n",
    "from xgboost import XGBClassifier\n",
    "\n",
    "xgb = XGBClassifier(random_state=82)\n",
    "\n",
    "xgb_param_grid = {\n",
    "    'n_estimators' : [100, 200, 400, 600, 1000], \n",
    "    'learning_rate' : [0.05, 0.1, 0.15, 0.2], \n",
    "    'max_depth' : [4, 6, 8, 10],\n",
    "    'gpu_id':[0],\n",
    "    'tree_method':['gpu_hist'],\n",
    "    'predictor':['gpu_predictor'],\n",
    "}\n",
    "\n",
    "xgb_grid_tfidf = GridSearchCV(xgb, param_grid = xgb_param_grid, scoring = 'accuracy').fit(x_tfidf_train, y_train, verbose=1)\n",
    "\n",
    "print(xgb_grid_tfidf.best_score_)\n",
    "\n",
    "estimator = xgb_grid_tfidf.best_estimator_\n",
    "pred_y_tfidf_xgb = estimator.predict(x_tfidf_test)"
   ]
  },
  {
   "cell_type": "code",
   "execution_count": null,
   "metadata": {},
   "outputs": [],
   "source": [
    "xgb_grid_tfidf.best_estimator_"
   ]
  },
  {
   "cell_type": "code",
   "execution_count": null,
   "metadata": {},
   "outputs": [],
   "source": [
    "\n",
    "precision, recall, f1_score, _ = precision_recall_fscore_support(y_test, pred_y_tfidf_xgb, average='binary')\n",
    "print(f1_score)\n",
    "\n",
    "print(classification_report(y_test, pred_y_tfidf_xgb, target_names=['neg', 'pos'],digits=4))\n",
    "print(accuracy_score(y_test, pred_y_tfidf_xgb)) "
   ]
  },
  {
   "cell_type": "markdown",
   "metadata": {},
   "source": [
    "# FastText"
   ]
  },
  {
   "cell_type": "code",
   "execution_count": null,
   "metadata": {},
   "outputs": [],
   "source": [
    "from gensim.models import KeyedVectors\n",
    "\n",
    "path_to_pretrained_model = \"wiki.en.bin\"\n",
    "pretrained_model = KeyedVectors.load_word2vec_format(\"wiki.en.vec\")\n",
    "\n",
    "print(pretrained_model[\"word\"])"
   ]
  },
  {
   "cell_type": "code",
   "execution_count": null,
   "metadata": {},
   "outputs": [],
   "source": [
    "\n",
    "def text_to_vector(text, model):\n",
    "    word_vectors = []\n",
    "    for word in text.split():\n",
    "        if word in model:\n",
    "            word_vectors.append(model[word])\n",
    "    if not word_vectors:\n",
    "        return np.zeros(model.vector_size)\n",
    "    return np.mean(word_vectors, axis=0)\n",
    "\n",
    "x_train_vectors = np.array([text_to_vector(text, pretrained_model) for text in x_train])\n",
    "x_test_vectors = np.array([text_to_vector(text, pretrained_model) for text in x_test])"
   ]
  },
  {
   "cell_type": "code",
   "execution_count": null,
   "metadata": {},
   "outputs": [],
   "source": [
    "\n",
    "lr_fasttext_model = LogisticRegression(class_weight='balanced')\n",
    "\n",
    "hyper_parmas = {\"max_iter\": [1000, 2000, 3000],\n",
    "                \"C\":[0.01, 0.1, 1, 10]}\n",
    "\n",
    "grid_lr_fasttext_model = GridSearchCV(lr_fasttext_model, param_grid=hyper_parmas, cv=5, refit=True, return_train_score=True).fit(x_train_vectors, y_train)\n",
    "\n",
    "print(grid_lr_fasttext_model.best_score_)\n",
    "\n",
    "estimator = grid_lr_fasttext_model.best_estimator_\n",
    "pred_y_fasttext_lr = estimator.predict(x_test_vectors)\n",
    "\n",
    "# 예측 \n",
    "precision, recall, f1_score, _ = precision_recall_fscore_support(y_test, pred_y_fasttext_lr, average='binary')\n",
    "print(f1_score)\n",
    "\n",
    "print(classification_report(y_test, pred_y_fasttext_lr, target_names=['neg', 'pos'],digits=4))\n",
    "# 예측 정확도\n",
    "print(accuracy_score(y_test, pred_y_fasttext_lr)) "
   ]
  },
  {
   "cell_type": "code",
   "execution_count": null,
   "metadata": {},
   "outputs": [],
   "source": [
    "#model train \n",
    "param_grid = {\n",
    "     'C': [0.001, 0.01, 0.1, 1, 10, 100] \n",
    "     }\n",
    "\n",
    "svm_origin = LinearSVC() \n",
    "n_estimators = 10\n",
    "n_jobs = 2\n",
    "\n",
    "svm_fasttext_model = GridSearchCV(svm_origin, param_grid = param_grid, cv = 5, n_jobs = -1, verbose = 3).fit(x_train_vectors, y_train)\n",
    "print(svm_fasttext_model.best_score_)\n",
    "\n",
    "estimator = svm_fasttext_model.best_estimator_\n",
    "pred_y_fasttext_svm = estimator.predict(x_test_vectors)"
   ]
  },
  {
   "cell_type": "code",
   "execution_count": null,
   "metadata": {},
   "outputs": [],
   "source": [
    "\n",
    "print(classification_report(y_test, pred_y_fasttext_svm, target_names=['neg', 'pos'],digits=4))\n",
    "print(accuracy_score(y_test, pred_y_fasttext_svm)) "
   ]
  },
  {
   "cell_type": "code",
   "execution_count": null,
   "metadata": {},
   "outputs": [],
   "source": [
    "from sklearn.preprocessing import MinMaxScaler\n",
    "\n",
    "# Min-Max 스케일링을 사용하여 임베딩 벡터 스케일링\n",
    "scaler = MinMaxScaler()\n",
    "x_train_vectors_scaled = scaler.fit_transform(x_train_vectors)\n",
    "x_test_vectors_scaled = scaler.transform(x_test_vectors)\n",
    "\n",
    "params = {'alpha': [0.001, 0.01, 0.1, 0.5, 1.0, 10.0, 100.0, 1000.0],\n",
    "         }\n",
    "\n",
    "nb_fasttext_model = GridSearchCV(MultinomialNB() , param_grid=params, cv=5,n_jobs=-1, verbose=3).fit(x_train_vectors_scaled, y_train)\n",
    "\n",
    "print(nb_fasttext_model.best_score_)\n",
    "\n",
    "estimator = nb_fasttext_model.best_estimator_\n",
    "pred_y_fasttext_nb = estimator.predict(x_test_vectors_scaled)"
   ]
  },
  {
   "cell_type": "code",
   "execution_count": null,
   "metadata": {},
   "outputs": [],
   "source": [
    "# 예측 \n",
    "print(classification_report(y_test, pred_y_fasttext_nb, target_names=['neg', 'pos'],digits=4))\n",
    "# 예측 정확도\n",
    "print(accuracy_score(y_test, pred_y_fasttext_nb)) "
   ]
  },
  {
   "cell_type": "code",
   "execution_count": null,
   "metadata": {},
   "outputs": [],
   "source": [
    "xgb = XGBClassifier(random_state=82)\n",
    "\n",
    "xgb_param_grid = {\n",
    "    'n_estimators' : [100, 200, 400, 600, 1000], \n",
    "    'learning_rate' : [0.05, 0.1, 0.15, 0.2], \n",
    "    'max_depth' : [4, 6, 8, 10],\n",
    "    'gpu_id':[0],\n",
    "    'tree_method':['gpu_hist'],\n",
    "    'predictor':['gpu_predictor'],\n",
    "}\n",
    "\n",
    "xgb_grid_fasttext = GridSearchCV(xgb, param_grid = xgb_param_grid, scoring = 'accuracy').fit(x_train_vectors, y_train, verbose=1)\n",
    "\n",
    "print(xgb_grid_fasttext.best_score_)\n",
    "\n",
    "estimator = xgb_grid_fasttext.best_estimator_\n",
    "pred_y_fasttext_xgb = estimator.predict(x_test_vectors)"
   ]
  },
  {
   "cell_type": "code",
   "execution_count": null,
   "metadata": {},
   "outputs": [],
   "source": [
    "precision, recall, f1_score, _ = precision_recall_fscore_support(y_test, pred_y_fasttext_xgb, average='binary')\n",
    "print(f1_score)\n",
    "\n",
    "print(classification_report(y_test, pred_y_fasttext_xgb, target_names=['neg', 'pos'],digits=4))\n",
    "print(accuracy_score(y_test, pred_y_fasttext_xgb)) "
   ]
  }
 ],
 "metadata": {
  "kernelspec": {
   "display_name": "Python 3",
   "language": "python",
   "name": "python3"
  },
  "language_info": {
   "codemirror_mode": {
    "name": "ipython",
    "version": 3
   },
   "file_extension": ".py",
   "mimetype": "text/x-python",
   "name": "python",
   "nbconvert_exporter": "python",
   "pygments_lexer": "ipython3",
   "version": "3.8.5"
  }
 },
 "nbformat": 4,
 "nbformat_minor": 2
}
