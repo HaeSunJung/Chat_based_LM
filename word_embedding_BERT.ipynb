{
 "cells": [
  {
   "cell_type": "code",
   "execution_count": null,
   "metadata": {},
   "outputs": [],
   "source": [
    "import pandas as pd\n",
    "\n",
    "import torch\n",
    "\n",
    "from tqdm import tqdm\n",
    "\n",
    "tqdm.pandas()\n",
    "\n",
    "import warnings\n",
    "\n",
    "warnings.filterwarnings(\"ignore\")\n",
    "\n",
    "import sklearn\n",
    "import seaborn as sns"
   ]
  },
  {
   "cell_type": "code",
   "execution_count": null,
   "metadata": {},
   "outputs": [],
   "source": [
    "df_with_unsup = pd.read_csv(\"unsupo_train.csv\")\n",
    "df_test =pd.read_csv(\"manually_test.csv\")"
   ]
  },
  {
   "cell_type": "code",
   "execution_count": null,
   "metadata": {},
   "outputs": [],
   "source": [
    "df_test = df_test.rename(columns={'sentiment_final': 'sentiment'})"
   ]
  },
  {
   "cell_type": "markdown",
   "metadata": {},
   "source": [
    "# 임베딩 모델링"
   ]
  },
  {
   "cell_type": "code",
   "execution_count": null,
   "metadata": {},
   "outputs": [],
   "source": [
    "train_with_unsup = tuple(df_with_unsup)"
   ]
  },
  {
   "cell_type": "code",
   "execution_count": null,
   "metadata": {},
   "outputs": [],
   "source": [
    "from sklearn.model_selection import train_test_split\n",
    "\n",
    "train_with_unsup = df_with_unsup\n",
    "test_with_unsup = df_test\n",
    "\n",
    "\n",
    "print(\"With Unsupervised Data:\")\n",
    "print(\"Train size:\", len(train_with_unsup))\n",
    "print(\"Test size:\", len(test_with_unsup))"
   ]
  },
  {
   "cell_type": "code",
   "execution_count": null,
   "metadata": {},
   "outputs": [],
   "source": [
    "\n",
    "device = torch.device(\"cuda\" if torch.cuda.is_available() else \"cpu\")\n",
    "print(device)"
   ]
  },
  {
   "cell_type": "code",
   "execution_count": null,
   "metadata": {},
   "outputs": [],
   "source": [
    "import torch\n",
    "from torch.utils.data import Dataset, DataLoader\n",
    "from transformers import BertTokenizer\n",
    "from transformers import DistilBertForSequenceClassification, DistilBertTokenizer,RobertaTokenizer\n",
    "\n",
    "class SentimentDataset(Dataset):    \n",
    "    def __init__(self, dataframe, max_length):     \n",
    "        self.data = dataframe       \n",
    "        #self.tokenizer = BertTokenizer.from_pretrained('bert-base-uncased') # \n",
    "        #self.tokenizer = DistilBertTokenizer.from_pretrained('distilbert-base-uncased') # \n",
    "        self.tokenizer = RobertaTokenizer.from_pretrained('roberta-base')\n",
    "        self.max_length = max_length    # max_len\n",
    "\n",
    "    def __len__(self):\n",
    "        return len(self.data)           \n",
    " \n",
    "    def __getitem__(self, index): \n",
    "        text = str(self.data.loc[index, 'content'])\n",
    "        label = self.data.loc[index, 'sentiment']\n",
    "        \"\"\"\n",
    "        input_ids: 토큰화된 텍스트의 정수 시퀀스로 이루어진 리스트입니다. BERT 모델의 입력으로 사용됩니다.\n",
    "        token_type_ids: 각 토큰의 문장 유형을 나타내는 리스트입니다. 문장이 두 개일 경우 첫 번째 문장의 토큰은 0으로, 두 번째 문장의 토큰은 1로 설정됩니다.\n",
    "        attention_mask: 어텐션 마스크로, 입력 토큰 중에서 실제 단어에 해당하는 부분은 1, 패딩 토큰에 해당하는 부분은 0으로 설정됩니다.\n",
    "        overflowing_tokens: 인코딩 과정에서 잘린 토큰이 있는 경우 해당 토큰을 포함합니다.\n",
    "        num_truncated_tokens: 인코딩 과정에서 잘린 토큰의 수를 나타냅니다.\n",
    "        special_tokens_mask: 특수 토큰의 위치를 나타내는 리스트입니다. 특수 토큰은 [CLS], [SEP], [PAD] 등을 말합니다.\n",
    "        \"\"\"\n",
    "        inputs = self.tokenizer.encode_plus(        \n",
    "            text,\n",
    "            add_special_tokens=True,\n",
    "            max_length=self.max_length,\n",
    "            padding='max_length',\n",
    "            truncation=True,\n",
    "            return_tensors='pt'\n",
    "        )\n",
    "        input_ids = inputs['input_ids'].squeeze(0).to(device)  # (seq_length,)\n",
    "        attention_mask = inputs['attention_mask'].squeeze(0).to(device)  # (seq_length,)\n",
    "        label = torch.tensor(label).to(device)\n",
    "\n",
    "        return input_ids, attention_mask, label\n",
    "\n",
    "\n",
    "def create_data_loader(dataframe, max_length, batch_size):\n",
    "    dataset = SentimentDataset(dataframe, max_length)\n",
    "    return DataLoader(\n",
    "        dataset,\n",
    "        batch_size=batch_size,\n",
    "        shuffle=True\n",
    "    )\n",
    "\n",
    "\n",
    "max_length = 64 # 32,128,256\n",
    "batch_size = 64   #8,16,32,64,128\n",
    "\n",
    "\n",
    "train_loader = create_data_loader(train_with_unsup, max_length, batch_size)\n",
    "test_loader = create_data_loader(test_with_unsup, max_length, batch_size)"
   ]
  },
  {
   "cell_type": "code",
   "execution_count": null,
   "metadata": {},
   "outputs": [],
   "source": [
    "import torch\n",
    "from transformers import BertTokenizer, BertForSequenceClassification, AdamW, RobertaForSequenceClassification\n",
    "from sklearn.metrics import accuracy_score\n",
    "from sklearn.model_selection import ParameterGrid\n",
    "from sklearn.metrics import classification_report\n",
    "\n",
    "\n",
    "#model = BertForSequenceClassification.from_pretrained(\"bert-base-uncased\", num_labels=2).to(device) \n",
    "#model = DistilBertForSequenceClassification.from_pretrained(\"distilbert-base-uncased\", num_labels=2).to(device) \n",
    "model = RobertaForSequenceClassification.from_pretrained('roberta-base', num_labels=2).to(device)\n",
    "\n",
    "\n",
    "optimizer = torch.optim.Adam(model.parameters(), lr=1e-5)\n",
    "criterion = torch.nn.CrossEntropyLoss()\n",
    "\n",
    " \n",
    "model.train()\n",
    "for epoch in range(5):\n",
    "    running_loss = 0.0\n",
    "    for i, batch in enumerate(train_loader):\n",
    "        input_ids, attention_mask, labels = batch\n",
    "        optimizer.zero_grad()\n",
    "        outputs = model(input_ids, attention_mask=attention_mask, labels=labels)\n",
    "        loss = outputs.loss\n",
    "        loss.backward()\n",
    "        optimizer.step()\n",
    "        running_loss += loss.item()\n",
    "\n",
    "        if i % 100 == 99: \n",
    "            print(f\"Epoch {epoch+1}, Batch {i+1}, Loss: {running_loss / 100}\")\n",
    "            running_loss = 0.0\n",
    "    print(f\"Epoch {epoch+1}, Loss: {running_loss / len(train_loader)}\")\n",
    "\n",
    "\n",
    "model.eval()\n",
    "predictions, true_labels = [], []\n",
    "for batch in test_loader:\n",
    "    input_ids, attention_mask, labels = batch\n",
    "    with torch.no_grad():\n",
    "        outputs = model(input_ids, attention_mask=attention_mask)\n",
    "    logits = outputs.logits\n",
    "    _, predicted = torch.max(logits, 1)\n",
    "    predictions.extend(predicted.tolist())\n",
    "    true_labels.extend(labels.tolist())\n",
    "\n",
    "\n",
    "accuracy = accuracy_score(true_labels, predictions)\n",
    "print( accuracy)\n",
    "\n",
    "print(classification_report(true_labels, predictions, target_names=['neg', 'pos'],digits=4))"
   ]
  }
 ],
 "metadata": {
  "kernelspec": {
   "display_name": "Python 3",
   "language": "python",
   "name": "python3"
  },
  "language_info": {
   "codemirror_mode": {
    "name": "ipython",
    "version": 3
   },
   "file_extension": ".py",
   "mimetype": "text/x-python",
   "name": "python",
   "nbconvert_exporter": "python",
   "pygments_lexer": "ipython3",
   "version": "3.8.5"
  }
 },
 "nbformat": 4,
 "nbformat_minor": 2
}
