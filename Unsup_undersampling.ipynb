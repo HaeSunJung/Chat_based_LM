{
 "cells": [
  {
   "cell_type": "code",
   "execution_count": null,
   "metadata": {},
   "outputs": [],
   "source": [
    "import seaborn as sns\n",
    "import pandas as pd\n",
    "from tqdm import tqdm\n",
    "import sklearn\n",
    "import warnings\n",
    "\n",
    "import nltk\n",
    "from nltk.corpus import wordnet as wn\n",
    "from nltk.corpus import sentiwordnet as swn\n",
    "import re\n",
    "\n",
    "nltk.download('sentiwordnet')\n",
    "\n",
    "import spacy\n",
    "nlp = spacy.load(\"en_core_web_sm\")\n",
    "\n",
    "from flair.models import TextClassifier\n",
    "from flair.data import Sentence\n",
    "\n",
    "tqdm.pandas()\n",
    "warnings.filterwarnings(\"ignore\")"
   ]
  },
  {
   "cell_type": "code",
   "execution_count": null,
   "metadata": {},
   "outputs": [],
   "source": [
    "df = pd.read_csv(\"raw_data.csv\")"
   ]
  },
  {
   "cell_type": "code",
   "execution_count": null,
   "metadata": {},
   "outputs": [],
   "source": [
    "df = df[df['content'].str.len() > 20]\n",
    "\n",
    "sns.countplot(x='star', data=df)"
   ]
  },
  {
   "cell_type": "code",
   "execution_count": null,
   "metadata": {},
   "outputs": [],
   "source": [
    "df = df[df['prepro'].str.len() > 20]\n",
    "df = df[df['content'].str.len() > 20]"
   ]
  },
  {
   "cell_type": "code",
   "execution_count": null,
   "metadata": {},
   "outputs": [],
   "source": [
    "df"
   ]
  },
  {
   "cell_type": "code",
   "execution_count": null,
   "metadata": {},
   "outputs": [],
   "source": [
    "\n",
    "df = df.drop_duplicates(subset=[\"content\"])\n",
    "df_except_neutral = df['star'] != 3\n",
    "df = df[df_except_neutral]\n",
    "\n",
    "\n",
    "df['sentiment'] = [1 if i > 3 else 0 for i in df['star']]\n",
    "# nan 값 제거\n",
    "df = df.dropna()\n",
    "\n",
    "df"
   ]
  },
  {
   "cell_type": "code",
   "execution_count": null,
   "metadata": {},
   "outputs": [],
   "source": [
    "df_train = df.sample(frac=0.8,random_state=82)\n",
    "df_test = df.drop(df_train.index)\n",
    "\n",
    "df_test.to_csv(\"text.csv\", index= False)\n",
    "\n",
    "print(len(df_test))"
   ]
  },
  {
   "cell_type": "code",
   "execution_count": null,
   "metadata": {},
   "outputs": [],
   "source": [
    "print(len(df_train))"
   ]
  },
  {
   "cell_type": "code",
   "execution_count": null,
   "metadata": {},
   "outputs": [],
   "source": [
    "sns.set_palette([\"#F44336\",\"#4CAF50\"])\n",
    "sns.countplot(x='sentiment', data=df_train)\n",
    "\n",
    "print(\"긍정 개수:\", (df_train[\"sentiment\"] == 1).sum())\n",
    "print(\"부정 개수:\", (df_train[\"sentiment\"] == 0).sum())"
   ]
  },
  {
   "cell_type": "code",
   "execution_count": null,
   "metadata": {},
   "outputs": [],
   "source": [
    "def equal_ratio(df): #downsampling\n",
    "\n",
    " \n",
    "    pos = df[df['sentiment'] == 1]\n",
    "    neg = df[df['sentiment'] == 0]\n",
    "    \n",
    "\n",
    "    print(f\"Before Positive: {len(pos)}, Before Negative: {len(neg)}\")\n",
    "\n",
    "\n",
    "    pos_len, neg_len = len(pos), len(neg)\n",
    "    DFF = abs(pos_len - neg_len)\n",
    "    ratio = 1 - (DFF / max(pos_len, neg_len))\n",
    "\n",
    "    if pos_len != neg_len:\n",
    "            pos = pos.sample(frac=ratio, random_state=82) if pos_len > neg_len else pos\n",
    "            neg = neg.sample(frac=ratio, random_state=82) if neg_len > pos_len else neg\n",
    "\n",
    " \n",
    "    print(f\"After Postive: {len(pos)}, After Negative: {len(neg)}\")\n",
    "\n",
    "    df = pd.concat([pos, neg], axis=0)\n",
    "    df = sklearn.utils.shuffle(df, random_state=82).reset_index(drop=True)\n",
    "\n",
    "    return df"
   ]
  },
  {
   "cell_type": "code",
   "execution_count": null,
   "metadata": {},
   "outputs": [],
   "source": [
    "df = df_train\n",
    "df = equal_ratio(df)\n",
    "sns.set_palette([\"#F44336\",\"#4CAF50\"])\n",
    "sns.countplot(x='sentiment', data=df)"
   ]
  },
  {
   "cell_type": "markdown",
   "metadata": {},
   "source": [
    "# 비지도 감성분석"
   ]
  },
  {
   "cell_type": "code",
   "execution_count": null,
   "metadata": {},
   "outputs": [],
   "source": [
    "\n",
    "from textblob import TextBlob\n",
    "\n",
    "sent_textblob = []\n",
    "\n",
    "for text in df['content'].copy():\n",
    "\n",
    "    blob = TextBlob(text)\n",
    "\n",
    "    polarity = blob.sentiment.polarity\n",
    "\n",
    "\n",
    "    if polarity > 0.1:\n",
    "        sent_textblob.append('Positive')\n",
    "    elif polarity < 0.1 and polarity != 0:\n",
    "        sent_textblob.append('Negative')\n",
    "    else:\n",
    "        sent_textblob.append('Neutral')\n",
    "\n",
    "df['sentiment_textblob'] = sent_textblob\n",
    "print('Textblob')"
   ]
  },
  {
   "cell_type": "code",
   "execution_count": null,
   "metadata": {},
   "outputs": [],
   "source": [
    "from afinn import Afinn\n",
    "\n",
    "sent_afinn = []\n",
    "\n",
    "afinn = Afinn()\n",
    "\n",
    "\n",
    "for text in df['content'].copy():\n",
    "\n",
    "    sentiment_score = afinn.score(text)\n",
    "\n",
    "\n",
    "    if sentiment_score > 2:\n",
    "        sent_afinn.append('Positive')\n",
    "    elif sentiment_score < 2 and sentiment_score !=0:\n",
    "        sent_afinn.append('Negative')\n",
    "    else:\n",
    "        sent_afinn.append('Neutral')\n",
    "\n",
    "df['sentiment_afinn'] = sent_afinn\n",
    "print('Afinn')"
   ]
  },
  {
   "cell_type": "code",
   "execution_count": null,
   "metadata": {},
   "outputs": [],
   "source": [
    "import nltk\n",
    "from nltk.sentiment.vader import SentimentIntensityAnalyzer\n",
    "\n",
    "sent_vader = []\n",
    "\n",
    "nltk.download('vader_lexicon')\n",
    "analyzer = SentimentIntensityAnalyzer()\n",
    "\n",
    "\n",
    "for text in df['content'].copy():\n",
    "\n",
    "    sentiment_scores = analyzer.polarity_scores(text)\n",
    "\n",
    "\n",
    "    if sentiment_scores['compound'] > 0.1:\n",
    "        sent_vader.append('Positive')\n",
    "    elif sentiment_scores['compound'] <= -0.1 and sentiment_scores['compound'] !=0:\n",
    "        sent_vader.append('Negative')\n",
    "    else:\n",
    "        sent_vader.append('Neutral')\n",
    "\n",
    "df['sentiment_vader'] = sent_vader\n",
    "print('VADER')"
   ]
  },
  {
   "cell_type": "code",
   "execution_count": null,
   "metadata": {},
   "outputs": [],
   "source": [
    "from pattern.en import sentiment\n",
    "\n",
    "sent_pattern = []\n",
    "\n",
    "for text in df['content'].copy():\n",
    "\n",
    "\n",
    "    sentiment_score, confidence = sentiment(text)\n",
    "\n",
    "\n",
    "    if sentiment_score > 0.1:\n",
    "        sent_pattern.append('Positive')\n",
    "    elif sentiment_score < 0.1 and sentiment_score !=0:\n",
    "        sent_pattern.append('Negative')\n",
    "    else:\n",
    "        sent_pattern.append('Neutral')\n",
    "\n",
    "df['sentiment_pattern'] = sent_pattern\n",
    "print('Pattern')"
   ]
  },
  {
   "cell_type": "code",
   "execution_count": null,
   "metadata": {},
   "outputs": [],
   "source": [
    "\n",
    "classifier = TextClassifier.load('en-sentiment')\n",
    "\n",
    "sent_flair = []\n",
    "sentiment_flair = []\n",
    "\n",
    "\n",
    "for text in df['content'].copy():\n",
    "\n",
    "    sentence = Sentence(text)\n",
    "\n",
    "\n",
    "    classifier.predict(sentence)\n",
    "\n",
    "\n",
    "    sentiment_score = sentence.labels[0].score\n",
    "    sentiment_value = sentence.labels[0].value\n",
    "\n",
    "\n",
    "    if sentiment_value == 'POSITIVE':\n",
    "        sent_flair.append(\"Positive\")\n",
    "    elif sentiment_value == 'NEGATIVE':\n",
    "        sent_flair.append(\"Negative\")\n",
    "    else:\n",
    "        sent_flair.append('Neutral')\n",
    "\n",
    "\n",
    "df['sentiment_flair'] = sent_flair\n",
    "\n",
    "print('Flair')\n"
   ]
  },
  {
   "cell_type": "code",
   "execution_count": null,
   "metadata": {},
   "outputs": [],
   "source": [
    "df_train = df\n",
    "df_train['sentiment'].value_counts()"
   ]
  },
  {
   "cell_type": "code",
   "execution_count": null,
   "metadata": {},
   "outputs": [],
   "source": [
    "df_train.to_csv(\"unsupx_train.csv\", index=False)"
   ]
  },
  {
   "cell_type": "code",
   "execution_count": null,
   "metadata": {},
   "outputs": [],
   "source": [
    "\n",
    "mode_values = df_train.mode(axis=1)[0]\n",
    "\n",
    "\n",
    "mode_counts = df.apply(lambda row: row.value_counts().max(), axis=1)\n",
    "df_train = df_train[mode_counts != 2]\n",
    "\n",
    "df_train['sentiment_final'] = df_train.mode(axis=1)[0]"
   ]
  },
  {
   "cell_type": "code",
   "execution_count": null,
   "metadata": {},
   "outputs": [],
   "source": [
    "df_train['sentiment_final'].value_counts()"
   ]
  },
  {
   "cell_type": "code",
   "execution_count": null,
   "metadata": {},
   "outputs": [],
   "source": [
    "df_train = df_train[['star', 'content', 'at', 'prepro', 'sentiment','sentiment_final']]"
   ]
  },
  {
   "cell_type": "code",
   "execution_count": null,
   "metadata": {},
   "outputs": [],
   "source": [
    "df_with_unsup = df_train[(df_train['sentiment_final'] == 'Positive') | (df_train['sentiment_final'] == 'Negative')].copy()\n",
    "df_with_unsup['sentiment_final'] = [1 if i == \"Positive\" else 0 for i in df_with_unsup['sentiment_final']]\n",
    "df_with_unsup = df_with_unsup[df_with_unsup['sentiment'] == df_with_unsup['sentiment_final']]\n",
    "df_with_unsup['sentiment'].value_counts() == df_with_unsup['sentiment_final'].value_counts()"
   ]
  },
  {
   "cell_type": "code",
   "execution_count": null,
   "metadata": {},
   "outputs": [],
   "source": [
    "df_with_unsup['sentiment_final'].value_counts()"
   ]
  },
  {
   "cell_type": "code",
   "execution_count": null,
   "metadata": {},
   "outputs": [],
   "source": [
    "sns.set_palette([\"#F44336\",\"#4CAF50\"])\n",
    "\n",
    "df_with_unsup = equal_ratio(df_with_unsup)\n",
    "sns.countplot(x='sentiment', data=df_with_unsup)"
   ]
  }
 ],
 "metadata": {
  "kernelspec": {
   "display_name": "Python 3",
   "language": "python",
   "name": "python3"
  },
  "language_info": {
   "codemirror_mode": {
    "name": "ipython",
    "version": 3
   },
   "file_extension": ".py",
   "mimetype": "text/x-python",
   "name": "python",
   "nbconvert_exporter": "python",
   "pygments_lexer": "ipython3",
   "version": "3.11.4"
  }
 },
 "nbformat": 4,
 "nbformat_minor": 2
}
